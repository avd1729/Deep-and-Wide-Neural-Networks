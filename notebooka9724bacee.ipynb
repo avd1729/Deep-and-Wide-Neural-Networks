{
 "cells": [
  {
   "cell_type": "markdown",
   "id": "3072890c",
   "metadata": {
    "papermill": {
     "duration": 0.004974,
     "end_time": "2023-10-15T08:09:41.590485",
     "exception": false,
     "start_time": "2023-10-15T08:09:41.585511",
     "status": "completed"
    },
    "tags": []
   },
   "source": [
    "# **Setting up the environment**"
   ]
  },
  {
   "cell_type": "code",
   "execution_count": 1,
   "id": "4b6802f4",
   "metadata": {
    "execution": {
     "iopub.execute_input": "2023-10-15T08:09:41.601300Z",
     "iopub.status.busy": "2023-10-15T08:09:41.601004Z",
     "iopub.status.idle": "2023-10-15T08:09:41.608384Z",
     "shell.execute_reply": "2023-10-15T08:09:41.607584Z"
    },
    "papermill": {
     "duration": 0.014768,
     "end_time": "2023-10-15T08:09:41.610055",
     "exception": false,
     "start_time": "2023-10-15T08:09:41.595287",
     "status": "completed"
    },
    "tags": []
   },
   "outputs": [],
   "source": [
    "import warnings\n",
    "warnings.filterwarnings('ignore')"
   ]
  },
  {
   "cell_type": "code",
   "execution_count": 2,
   "id": "699f4727",
   "metadata": {
    "execution": {
     "iopub.execute_input": "2023-10-15T08:09:41.619822Z",
     "iopub.status.busy": "2023-10-15T08:09:41.619590Z",
     "iopub.status.idle": "2023-10-15T08:09:51.967573Z",
     "shell.execute_reply": "2023-10-15T08:09:51.966672Z"
    },
    "papermill": {
     "duration": 10.355197,
     "end_time": "2023-10-15T08:09:51.969679",
     "exception": false,
     "start_time": "2023-10-15T08:09:41.614482",
     "status": "completed"
    },
    "tags": []
   },
   "outputs": [],
   "source": [
    "import numpy as np\n",
    "import pandas as pd\n",
    "import tensorflow as tf"
   ]
  },
  {
   "cell_type": "code",
   "execution_count": 3,
   "id": "487540aa",
   "metadata": {
    "execution": {
     "iopub.execute_input": "2023-10-15T08:09:51.980732Z",
     "iopub.status.busy": "2023-10-15T08:09:51.979876Z",
     "iopub.status.idle": "2023-10-15T08:09:52.799005Z",
     "shell.execute_reply": "2023-10-15T08:09:52.798069Z"
    },
    "papermill": {
     "duration": 0.826747,
     "end_time": "2023-10-15T08:09:52.801232",
     "exception": false,
     "start_time": "2023-10-15T08:09:51.974485",
     "status": "completed"
    },
    "tags": []
   },
   "outputs": [],
   "source": [
    "from sklearn.datasets import load_diabetes\n",
    "\n",
    "data = load_diabetes()"
   ]
  },
  {
   "cell_type": "code",
   "execution_count": 4,
   "id": "9d577315",
   "metadata": {
    "execution": {
     "iopub.execute_input": "2023-10-15T08:09:52.813340Z",
     "iopub.status.busy": "2023-10-15T08:09:52.812563Z",
     "iopub.status.idle": "2023-10-15T08:09:52.820188Z",
     "shell.execute_reply": "2023-10-15T08:09:52.819247Z"
    },
    "papermill": {
     "duration": 0.015924,
     "end_time": "2023-10-15T08:09:52.822097",
     "exception": false,
     "start_time": "2023-10-15T08:09:52.806173",
     "status": "completed"
    },
    "tags": []
   },
   "outputs": [
    {
     "data": {
      "text/plain": [
       "array([[ 0.03807591,  0.05068012,  0.06169621, ..., -0.00259226,\n",
       "         0.01990749, -0.01764613],\n",
       "       [-0.00188202, -0.04464164, -0.05147406, ..., -0.03949338,\n",
       "        -0.06833155, -0.09220405],\n",
       "       [ 0.08529891,  0.05068012,  0.04445121, ..., -0.00259226,\n",
       "         0.00286131, -0.02593034],\n",
       "       ...,\n",
       "       [ 0.04170844,  0.05068012, -0.01590626, ..., -0.01107952,\n",
       "        -0.04688253,  0.01549073],\n",
       "       [-0.04547248, -0.04464164,  0.03906215, ...,  0.02655962,\n",
       "         0.04452873, -0.02593034],\n",
       "       [-0.04547248, -0.04464164, -0.0730303 , ..., -0.03949338,\n",
       "        -0.00422151,  0.00306441]])"
      ]
     },
     "execution_count": 4,
     "metadata": {},
     "output_type": "execute_result"
    }
   ],
   "source": [
    "data.data"
   ]
  },
  {
   "cell_type": "code",
   "execution_count": 5,
   "id": "015eeaae",
   "metadata": {
    "execution": {
     "iopub.execute_input": "2023-10-15T08:09:52.833260Z",
     "iopub.status.busy": "2023-10-15T08:09:52.832851Z",
     "iopub.status.idle": "2023-10-15T08:09:52.838371Z",
     "shell.execute_reply": "2023-10-15T08:09:52.837477Z"
    },
    "papermill": {
     "duration": 0.013027,
     "end_time": "2023-10-15T08:09:52.840155",
     "exception": false,
     "start_time": "2023-10-15T08:09:52.827128",
     "status": "completed"
    },
    "tags": []
   },
   "outputs": [
    {
     "data": {
      "text/plain": [
       "10"
      ]
     },
     "execution_count": 5,
     "metadata": {},
     "output_type": "execute_result"
    }
   ],
   "source": [
    "len(data.data[0])"
   ]
  },
  {
   "cell_type": "code",
   "execution_count": 6,
   "id": "c8faeddc",
   "metadata": {
    "execution": {
     "iopub.execute_input": "2023-10-15T08:09:52.850813Z",
     "iopub.status.busy": "2023-10-15T08:09:52.850216Z",
     "iopub.status.idle": "2023-10-15T08:09:52.966450Z",
     "shell.execute_reply": "2023-10-15T08:09:52.965560Z"
    },
    "papermill": {
     "duration": 0.12376,
     "end_time": "2023-10-15T08:09:52.968476",
     "exception": false,
     "start_time": "2023-10-15T08:09:52.844716",
     "status": "completed"
    },
    "tags": []
   },
   "outputs": [],
   "source": [
    "from sklearn.model_selection import train_test_split\n",
    "\n",
    "X_train_full, X_test, y_train_full, y_test = train_test_split(\n",
    "    data.data, data.target, random_state=42)\n",
    "X_train, X_valid, y_train, y_valid = train_test_split(\n",
    "    X_train_full, y_train_full, random_state=42)"
   ]
  },
  {
   "cell_type": "markdown",
   "id": "dc0384ed",
   "metadata": {
    "papermill": {
     "duration": 0.005024,
     "end_time": "2023-10-15T08:09:52.978833",
     "exception": false,
     "start_time": "2023-10-15T08:09:52.973809",
     "status": "completed"
    },
    "tags": []
   },
   "source": [
    "# **Plain vanilla DNN**"
   ]
  },
  {
   "cell_type": "code",
   "execution_count": 7,
   "id": "12ed0279",
   "metadata": {
    "execution": {
     "iopub.execute_input": "2023-10-15T08:09:52.989922Z",
     "iopub.status.busy": "2023-10-15T08:09:52.989334Z",
     "iopub.status.idle": "2023-10-15T08:09:58.583594Z",
     "shell.execute_reply": "2023-10-15T08:09:58.582701Z"
    },
    "papermill": {
     "duration": 5.601948,
     "end_time": "2023-10-15T08:09:58.585632",
     "exception": false,
     "start_time": "2023-10-15T08:09:52.983684",
     "status": "completed"
    },
    "tags": []
   },
   "outputs": [],
   "source": [
    "tf.random.set_seed(42)\n",
    "tf.keras.backend.clear_session()\n",
    "norm_layer = tf.keras.layers.Normalization(input_shape=X_train.shape[1:])\n",
    "model = tf.keras.Sequential([\n",
    "    norm_layer,\n",
    "    tf.keras.layers.Dense(50, activation=\"relu\"),\n",
    "    tf.keras.layers.Dense(50, activation=\"relu\"),\n",
    "    tf.keras.layers.Dense(50, activation=\"relu\"),\n",
    "    tf.keras.layers.Dense(1)\n",
    "])"
   ]
  },
  {
   "cell_type": "code",
   "execution_count": 8,
   "id": "278fe60b",
   "metadata": {
    "execution": {
     "iopub.execute_input": "2023-10-15T08:09:58.596971Z",
     "iopub.status.busy": "2023-10-15T08:09:58.596346Z",
     "iopub.status.idle": "2023-10-15T08:09:58.619087Z",
     "shell.execute_reply": "2023-10-15T08:09:58.618277Z"
    },
    "papermill": {
     "duration": 0.037113,
     "end_time": "2023-10-15T08:09:58.627747",
     "exception": false,
     "start_time": "2023-10-15T08:09:58.590634",
     "status": "completed"
    },
    "tags": []
   },
   "outputs": [
    {
     "name": "stdout",
     "output_type": "stream",
     "text": [
      "Model: \"sequential\"\n",
      "_________________________________________________________________\n",
      " Layer (type)                Output Shape              Param #   \n",
      "=================================================================\n",
      " normalization (Normalizatio  (None, 10)               21        \n",
      " n)                                                              \n",
      "                                                                 \n",
      " dense (Dense)               (None, 50)                550       \n",
      "                                                                 \n",
      " dense_1 (Dense)             (None, 50)                2550      \n",
      "                                                                 \n",
      " dense_2 (Dense)             (None, 50)                2550      \n",
      "                                                                 \n",
      " dense_3 (Dense)             (None, 1)                 51        \n",
      "                                                                 \n",
      "=================================================================\n",
      "Total params: 5,722\n",
      "Trainable params: 5,701\n",
      "Non-trainable params: 21\n",
      "_________________________________________________________________\n"
     ]
    }
   ],
   "source": [
    "model.summary()"
   ]
  },
  {
   "cell_type": "code",
   "execution_count": 9,
   "id": "bc62a2b2",
   "metadata": {
    "execution": {
     "iopub.execute_input": "2023-10-15T08:09:58.639933Z",
     "iopub.status.busy": "2023-10-15T08:09:58.639695Z",
     "iopub.status.idle": "2023-10-15T08:10:06.745604Z",
     "shell.execute_reply": "2023-10-15T08:10:06.744566Z"
    },
    "papermill": {
     "duration": 8.114531,
     "end_time": "2023-10-15T08:10:06.747647",
     "exception": false,
     "start_time": "2023-10-15T08:09:58.633116",
     "status": "completed"
    },
    "tags": []
   },
   "outputs": [
    {
     "name": "stdout",
     "output_type": "stream",
     "text": [
      "Epoch 1/20\n",
      "8/8 [==============================] - 6s 62ms/step - loss: 28757.0430 - root_mean_squared_error: 169.5790 - val_loss: 32466.0156 - val_root_mean_squared_error: 180.1833\n",
      "Epoch 2/20\n",
      "8/8 [==============================] - 0s 8ms/step - loss: 28504.0645 - root_mean_squared_error: 168.8315 - val_loss: 32159.7891 - val_root_mean_squared_error: 179.3315\n",
      "Epoch 3/20\n",
      "8/8 [==============================] - 0s 9ms/step - loss: 28175.7090 - root_mean_squared_error: 167.8562 - val_loss: 31735.1992 - val_root_mean_squared_error: 178.1438\n",
      "Epoch 4/20\n",
      "8/8 [==============================] - 0s 9ms/step - loss: 27684.6445 - root_mean_squared_error: 166.3870 - val_loss: 31077.9102 - val_root_mean_squared_error: 176.2893\n",
      "Epoch 5/20\n",
      "8/8 [==============================] - 0s 8ms/step - loss: 26951.1875 - root_mean_squared_error: 164.1682 - val_loss: 30035.9707 - val_root_mean_squared_error: 173.3089\n",
      "Epoch 6/20\n",
      "8/8 [==============================] - 0s 10ms/step - loss: 25793.7637 - root_mean_squared_error: 160.6044 - val_loss: 28472.9375 - val_root_mean_squared_error: 168.7393\n",
      "Epoch 7/20\n",
      "8/8 [==============================] - 0s 10ms/step - loss: 24092.8203 - root_mean_squared_error: 155.2186 - val_loss: 26197.4160 - val_root_mean_squared_error: 161.8562\n",
      "Epoch 8/20\n",
      "8/8 [==============================] - 0s 9ms/step - loss: 21662.4336 - root_mean_squared_error: 147.1816 - val_loss: 23063.8730 - val_root_mean_squared_error: 151.8680\n",
      "Epoch 9/20\n",
      "8/8 [==============================] - 0s 8ms/step - loss: 18486.0410 - root_mean_squared_error: 135.9634 - val_loss: 18992.1406 - val_root_mean_squared_error: 137.8120\n",
      "Epoch 10/20\n",
      "8/8 [==============================] - 0s 8ms/step - loss: 14651.1514 - root_mean_squared_error: 121.0419 - val_loss: 14353.8730 - val_root_mean_squared_error: 119.8076\n",
      "Epoch 11/20\n",
      "8/8 [==============================] - 0s 8ms/step - loss: 10638.8154 - root_mean_squared_error: 103.1446 - val_loss: 10163.4453 - val_root_mean_squared_error: 100.8139\n",
      "Epoch 12/20\n",
      "8/8 [==============================] - 0s 10ms/step - loss: 7504.1426 - root_mean_squared_error: 86.6264 - val_loss: 7552.5156 - val_root_mean_squared_error: 86.9052\n",
      "Epoch 13/20\n",
      "8/8 [==============================] - 0s 8ms/step - loss: 6298.1367 - root_mean_squared_error: 79.3608 - val_loss: 6530.0361 - val_root_mean_squared_error: 80.8086\n",
      "Epoch 14/20\n",
      "8/8 [==============================] - 0s 8ms/step - loss: 5614.6445 - root_mean_squared_error: 74.9309 - val_loss: 6023.2095 - val_root_mean_squared_error: 77.6093\n",
      "Epoch 15/20\n",
      "8/8 [==============================] - 0s 8ms/step - loss: 5098.2759 - root_mean_squared_error: 71.4022 - val_loss: 5622.9814 - val_root_mean_squared_error: 74.9865\n",
      "Epoch 16/20\n",
      "8/8 [==============================] - 0s 8ms/step - loss: 4690.7773 - root_mean_squared_error: 68.4893 - val_loss: 5324.2573 - val_root_mean_squared_error: 72.9675\n",
      "Epoch 17/20\n",
      "8/8 [==============================] - 0s 9ms/step - loss: 4336.5649 - root_mean_squared_error: 65.8526 - val_loss: 5156.2793 - val_root_mean_squared_error: 71.8072\n",
      "Epoch 18/20\n",
      "8/8 [==============================] - 0s 8ms/step - loss: 4097.1143 - root_mean_squared_error: 64.0087 - val_loss: 4926.4351 - val_root_mean_squared_error: 70.1886\n",
      "Epoch 19/20\n",
      "8/8 [==============================] - 0s 8ms/step - loss: 3873.6372 - root_mean_squared_error: 62.2385 - val_loss: 4772.1885 - val_root_mean_squared_error: 69.0810\n",
      "Epoch 20/20\n",
      "8/8 [==============================] - 0s 8ms/step - loss: 3716.8582 - root_mean_squared_error: 60.9660 - val_loss: 4591.3013 - val_root_mean_squared_error: 67.7591\n",
      "4/4 [==============================] - 0s 4ms/step - loss: 3588.1238 - root_mean_squared_error: 59.9009\n"
     ]
    }
   ],
   "source": [
    "optimizer = tf.keras.optimizers.Adam(learning_rate=1e-3)\n",
    "model.compile(loss=\"mse\", optimizer=optimizer, metrics=[\"RootMeanSquaredError\"])\n",
    "norm_layer.adapt(X_train)\n",
    "history = model.fit(X_train, y_train, epochs=20,\n",
    "                    validation_data=(X_valid, y_valid))\n",
    "mse_test, rmse_test = model.evaluate(X_test, y_test)"
   ]
  },
  {
   "cell_type": "markdown",
   "id": "1ce4a73a",
   "metadata": {
    "papermill": {
     "duration": 0.008083,
     "end_time": "2023-10-15T08:10:06.765108",
     "exception": false,
     "start_time": "2023-10-15T08:10:06.757025",
     "status": "completed"
    },
    "tags": []
   },
   "source": [
    "# **Wide & Deep Neural Networks**"
   ]
  },
  {
   "cell_type": "code",
   "execution_count": 10,
   "id": "12623062",
   "metadata": {
    "execution": {
     "iopub.execute_input": "2023-10-15T08:10:06.783045Z",
     "iopub.status.busy": "2023-10-15T08:10:06.782393Z",
     "iopub.status.idle": "2023-10-15T08:10:06.798550Z",
     "shell.execute_reply": "2023-10-15T08:10:06.797729Z"
    },
    "papermill": {
     "duration": 0.02685,
     "end_time": "2023-10-15T08:10:06.800214",
     "exception": false,
     "start_time": "2023-10-15T08:10:06.773364",
     "status": "completed"
    },
    "tags": []
   },
   "outputs": [],
   "source": [
    "tf.keras.backend.clear_session()\n",
    "tf.random.set_seed(42)"
   ]
  },
  {
   "cell_type": "code",
   "execution_count": 11,
   "id": "a2d77b13",
   "metadata": {
    "execution": {
     "iopub.execute_input": "2023-10-15T08:10:06.818775Z",
     "iopub.status.busy": "2023-10-15T08:10:06.818231Z",
     "iopub.status.idle": "2023-10-15T08:10:06.889553Z",
     "shell.execute_reply": "2023-10-15T08:10:06.888640Z"
    },
    "papermill": {
     "duration": 0.082925,
     "end_time": "2023-10-15T08:10:06.891395",
     "exception": false,
     "start_time": "2023-10-15T08:10:06.808470",
     "status": "completed"
    },
    "tags": []
   },
   "outputs": [],
   "source": [
    "normalization_layer = tf.keras.layers.Normalization()\n",
    "hidden_layer1 = tf.keras.layers.Dense(50, activation=\"relu\")\n",
    "hidden_layer2 = tf.keras.layers.Dense(50, activation=\"relu\")\n",
    "concat_layer = tf.keras.layers.Concatenate()\n",
    "output_layer = tf.keras.layers.Dense(1)\n",
    "\n",
    "input_ = tf.keras.layers.Input(shape=X_train.shape[1:])\n",
    "normalized = normalization_layer(input_)\n",
    "hidden1 = hidden_layer1(normalized)\n",
    "hidden2 = hidden_layer2(hidden1)\n",
    "concat = concat_layer([normalized, hidden2])\n",
    "output = output_layer(concat)\n",
    "\n",
    "model = tf.keras.Model(inputs=[input_], outputs=[output])"
   ]
  },
  {
   "cell_type": "code",
   "execution_count": 12,
   "id": "ee351083",
   "metadata": {
    "execution": {
     "iopub.execute_input": "2023-10-15T08:10:06.910677Z",
     "iopub.status.busy": "2023-10-15T08:10:06.910042Z",
     "iopub.status.idle": "2023-10-15T08:10:06.933876Z",
     "shell.execute_reply": "2023-10-15T08:10:06.933162Z"
    },
    "papermill": {
     "duration": 0.043472,
     "end_time": "2023-10-15T08:10:06.943848",
     "exception": false,
     "start_time": "2023-10-15T08:10:06.900376",
     "status": "completed"
    },
    "tags": []
   },
   "outputs": [
    {
     "name": "stdout",
     "output_type": "stream",
     "text": [
      "Model: \"model\"\n",
      "__________________________________________________________________________________________________\n",
      " Layer (type)                   Output Shape         Param #     Connected to                     \n",
      "==================================================================================================\n",
      " input_1 (InputLayer)           [(None, 10)]         0           []                               \n",
      "                                                                                                  \n",
      " normalization (Normalization)  (None, 10)           21          ['input_1[0][0]']                \n",
      "                                                                                                  \n",
      " dense (Dense)                  (None, 50)           550         ['normalization[0][0]']          \n",
      "                                                                                                  \n",
      " dense_1 (Dense)                (None, 50)           2550        ['dense[0][0]']                  \n",
      "                                                                                                  \n",
      " concatenate (Concatenate)      (None, 60)           0           ['normalization[0][0]',          \n",
      "                                                                  'dense_1[0][0]']                \n",
      "                                                                                                  \n",
      " dense_2 (Dense)                (None, 1)            61          ['concatenate[0][0]']            \n",
      "                                                                                                  \n",
      "==================================================================================================\n",
      "Total params: 3,182\n",
      "Trainable params: 3,161\n",
      "Non-trainable params: 21\n",
      "__________________________________________________________________________________________________\n"
     ]
    }
   ],
   "source": [
    "model.summary()"
   ]
  },
  {
   "cell_type": "code",
   "execution_count": 13,
   "id": "2c1a2283",
   "metadata": {
    "execution": {
     "iopub.execute_input": "2023-10-15T08:10:06.969246Z",
     "iopub.status.busy": "2023-10-15T08:10:06.968999Z",
     "iopub.status.idle": "2023-10-15T08:10:10.269140Z",
     "shell.execute_reply": "2023-10-15T08:10:10.268273Z"
    },
    "papermill": {
     "duration": 3.312269,
     "end_time": "2023-10-15T08:10:10.271177",
     "exception": false,
     "start_time": "2023-10-15T08:10:06.958908",
     "status": "completed"
    },
    "tags": []
   },
   "outputs": [
    {
     "name": "stdout",
     "output_type": "stream",
     "text": [
      "Epoch 1/20\n",
      "8/8 [==============================] - 1s 27ms/step - loss: 28708.3496 - root_mean_squared_error: 169.4354 - val_loss: 32493.6445 - val_root_mean_squared_error: 180.2599\n",
      "Epoch 2/20\n",
      "8/8 [==============================] - 0s 9ms/step - loss: 28554.8262 - root_mean_squared_error: 168.9817 - val_loss: 32310.9883 - val_root_mean_squared_error: 179.7526\n",
      "Epoch 3/20\n",
      "8/8 [==============================] - 0s 8ms/step - loss: 28375.1543 - root_mean_squared_error: 168.4493 - val_loss: 32095.4160 - val_root_mean_squared_error: 179.1519\n",
      "Epoch 4/20\n",
      "8/8 [==============================] - 0s 9ms/step - loss: 28157.7832 - root_mean_squared_error: 167.8028 - val_loss: 31827.1504 - val_root_mean_squared_error: 178.4017\n",
      "Epoch 5/20\n",
      "8/8 [==============================] - 0s 7ms/step - loss: 27894.8770 - root_mean_squared_error: 167.0176 - val_loss: 31480.1660 - val_root_mean_squared_error: 177.4265\n",
      "Epoch 6/20\n",
      "8/8 [==============================] - 0s 8ms/step - loss: 27547.0918 - root_mean_squared_error: 165.9732 - val_loss: 31039.0293 - val_root_mean_squared_error: 176.1790\n",
      "Epoch 7/20\n",
      "8/8 [==============================] - 0s 10ms/step - loss: 27105.6172 - root_mean_squared_error: 164.6378 - val_loss: 30483.6875 - val_root_mean_squared_error: 174.5958\n",
      "Epoch 8/20\n",
      "8/8 [==============================] - 0s 7ms/step - loss: 26551.5508 - root_mean_squared_error: 162.9465 - val_loss: 29800.2598 - val_root_mean_squared_error: 172.6275\n",
      "Epoch 9/20\n",
      "8/8 [==============================] - 0s 8ms/step - loss: 25876.8457 - root_mean_squared_error: 160.8628 - val_loss: 28960.9512 - val_root_mean_squared_error: 170.1792\n",
      "Epoch 10/20\n",
      "8/8 [==============================] - 0s 8ms/step - loss: 25064.2734 - root_mean_squared_error: 158.3170 - val_loss: 27949.4883 - val_root_mean_squared_error: 167.1810\n",
      "Epoch 11/20\n",
      "8/8 [==============================] - 0s 9ms/step - loss: 24088.9648 - root_mean_squared_error: 155.2062 - val_loss: 26768.8613 - val_root_mean_squared_error: 163.6119\n",
      "Epoch 12/20\n",
      "8/8 [==============================] - 0s 9ms/step - loss: 22922.5527 - root_mean_squared_error: 151.4020 - val_loss: 25410.8340 - val_root_mean_squared_error: 159.4078\n",
      "Epoch 13/20\n",
      "8/8 [==============================] - 0s 9ms/step - loss: 21651.9980 - root_mean_squared_error: 147.1462 - val_loss: 23852.9355 - val_root_mean_squared_error: 154.4440\n",
      "Epoch 14/20\n",
      "8/8 [==============================] - 0s 7ms/step - loss: 20159.1172 - root_mean_squared_error: 141.9828 - val_loss: 22132.5020 - val_root_mean_squared_error: 148.7700\n",
      "Epoch 15/20\n",
      "8/8 [==============================] - 0s 10ms/step - loss: 18591.7461 - root_mean_squared_error: 136.3515 - val_loss: 20245.1328 - val_root_mean_squared_error: 142.2854\n",
      "Epoch 16/20\n",
      "8/8 [==============================] - 0s 10ms/step - loss: 16861.8574 - root_mean_squared_error: 129.8532 - val_loss: 18278.2871 - val_root_mean_squared_error: 135.1972\n",
      "Epoch 17/20\n",
      "8/8 [==============================] - 0s 10ms/step - loss: 15031.5586 - root_mean_squared_error: 122.6033 - val_loss: 16291.1533 - val_root_mean_squared_error: 127.6368\n",
      "Epoch 18/20\n",
      "8/8 [==============================] - 0s 9ms/step - loss: 13294.7705 - root_mean_squared_error: 115.3029 - val_loss: 14261.2832 - val_root_mean_squared_error: 119.4206\n",
      "Epoch 19/20\n",
      "8/8 [==============================] - 0s 8ms/step - loss: 11553.0527 - root_mean_squared_error: 107.4851 - val_loss: 12354.3975 - val_root_mean_squared_error: 111.1503\n",
      "Epoch 20/20\n",
      "8/8 [==============================] - 0s 8ms/step - loss: 9961.1758 - root_mean_squared_error: 99.8057 - val_loss: 10590.7715 - val_root_mean_squared_error: 102.9115\n",
      "4/4 [==============================] - 0s 3ms/step - loss: 8465.6455 - root_mean_squared_error: 92.0089\n"
     ]
    }
   ],
   "source": [
    "optimizer = tf.keras.optimizers.Adam(learning_rate=1e-3)\n",
    "model.compile(loss=\"mse\", optimizer=optimizer, metrics=[\"RootMeanSquaredError\"])\n",
    "normalization_layer.adapt(X_train)\n",
    "history = model.fit(X_train, y_train, epochs=20,\n",
    "                    validation_data=(X_valid, y_valid))\n",
    "mse_test = model.evaluate(X_test, y_test)"
   ]
  },
  {
   "cell_type": "code",
   "execution_count": 14,
   "id": "4b22dffe",
   "metadata": {
    "execution": {
     "iopub.execute_input": "2023-10-15T08:10:10.296065Z",
     "iopub.status.busy": "2023-10-15T08:10:10.295804Z",
     "iopub.status.idle": "2023-10-15T08:10:10.308282Z",
     "shell.execute_reply": "2023-10-15T08:10:10.307476Z"
    },
    "papermill": {
     "duration": 0.026525,
     "end_time": "2023-10-15T08:10:10.309963",
     "exception": false,
     "start_time": "2023-10-15T08:10:10.283438",
     "status": "completed"
    },
    "tags": []
   },
   "outputs": [],
   "source": [
    "tf.keras.backend.clear_session()\n",
    "tf.random.set_seed(42)"
   ]
  },
  {
   "cell_type": "code",
   "execution_count": 15,
   "id": "305ed4ed",
   "metadata": {
    "execution": {
     "iopub.execute_input": "2023-10-15T08:10:10.333970Z",
     "iopub.status.busy": "2023-10-15T08:10:10.333318Z",
     "iopub.status.idle": "2023-10-15T08:10:10.417086Z",
     "shell.execute_reply": "2023-10-15T08:10:10.416228Z"
    },
    "papermill": {
     "duration": 0.097565,
     "end_time": "2023-10-15T08:10:10.418880",
     "exception": false,
     "start_time": "2023-10-15T08:10:10.321315",
     "status": "completed"
    },
    "tags": []
   },
   "outputs": [],
   "source": [
    "input_wide = tf.keras.layers.Input(shape=[5])  # features 0 to 4\n",
    "input_deep = tf.keras.layers.Input(shape=[8])  # features 2 to 9\n",
    "norm_layer_wide = tf.keras.layers.Normalization()\n",
    "norm_layer_deep = tf.keras.layers.Normalization()\n",
    "norm_wide = norm_layer_wide(input_wide)\n",
    "norm_deep = norm_layer_deep(input_deep)\n",
    "hidden1 = tf.keras.layers.Dense(50, activation=\"relu\")(norm_deep)\n",
    "hidden2 = tf.keras.layers.Dense(50, activation=\"relu\")(hidden1)\n",
    "concat = tf.keras.layers.concatenate([norm_wide, hidden2])\n",
    "output = tf.keras.layers.Dense(1)(concat)\n",
    "model = tf.keras.Model(inputs=[input_wide, input_deep], outputs=[output])"
   ]
  },
  {
   "cell_type": "code",
   "execution_count": 16,
   "id": "5fece21b",
   "metadata": {
    "execution": {
     "iopub.execute_input": "2023-10-15T08:10:10.443438Z",
     "iopub.status.busy": "2023-10-15T08:10:10.442743Z",
     "iopub.status.idle": "2023-10-15T08:10:10.467851Z",
     "shell.execute_reply": "2023-10-15T08:10:10.467122Z"
    },
    "papermill": {
     "duration": 0.050836,
     "end_time": "2023-10-15T08:10:10.481396",
     "exception": false,
     "start_time": "2023-10-15T08:10:10.430560",
     "status": "completed"
    },
    "tags": []
   },
   "outputs": [
    {
     "name": "stdout",
     "output_type": "stream",
     "text": [
      "Model: \"model\"\n",
      "__________________________________________________________________________________________________\n",
      " Layer (type)                   Output Shape         Param #     Connected to                     \n",
      "==================================================================================================\n",
      " input_2 (InputLayer)           [(None, 8)]          0           []                               \n",
      "                                                                                                  \n",
      " normalization_1 (Normalization  (None, 8)           17          ['input_2[0][0]']                \n",
      " )                                                                                                \n",
      "                                                                                                  \n",
      " input_1 (InputLayer)           [(None, 5)]          0           []                               \n",
      "                                                                                                  \n",
      " dense (Dense)                  (None, 50)           450         ['normalization_1[0][0]']        \n",
      "                                                                                                  \n",
      " normalization (Normalization)  (None, 5)            11          ['input_1[0][0]']                \n",
      "                                                                                                  \n",
      " dense_1 (Dense)                (None, 50)           2550        ['dense[0][0]']                  \n",
      "                                                                                                  \n",
      " concatenate (Concatenate)      (None, 55)           0           ['normalization[0][0]',          \n",
      "                                                                  'dense_1[0][0]']                \n",
      "                                                                                                  \n",
      " dense_2 (Dense)                (None, 1)            56          ['concatenate[0][0]']            \n",
      "                                                                                                  \n",
      "==================================================================================================\n",
      "Total params: 3,084\n",
      "Trainable params: 3,056\n",
      "Non-trainable params: 28\n",
      "__________________________________________________________________________________________________\n"
     ]
    }
   ],
   "source": [
    "model.summary()"
   ]
  },
  {
   "cell_type": "code",
   "execution_count": 17,
   "id": "a05e1907",
   "metadata": {
    "execution": {
     "iopub.execute_input": "2023-10-15T08:10:10.547198Z",
     "iopub.status.busy": "2023-10-15T08:10:10.546896Z",
     "iopub.status.idle": "2023-10-15T08:10:13.595497Z",
     "shell.execute_reply": "2023-10-15T08:10:13.594565Z"
    },
    "papermill": {
     "duration": 3.103656,
     "end_time": "2023-10-15T08:10:13.597590",
     "exception": false,
     "start_time": "2023-10-15T08:10:10.493934",
     "status": "completed"
    },
    "tags": []
   },
   "outputs": [
    {
     "name": "stdout",
     "output_type": "stream",
     "text": [
      "Epoch 1/20\n",
      "8/8 [==============================] - 1s 29ms/step - loss: 28845.7539 - root_mean_squared_error: 169.8404 - val_loss: 32624.3340 - val_root_mean_squared_error: 180.6221\n",
      "Epoch 2/20\n",
      "8/8 [==============================] - 0s 8ms/step - loss: 28707.6445 - root_mean_squared_error: 169.4333 - val_loss: 32459.8555 - val_root_mean_squared_error: 180.1662\n",
      "Epoch 3/20\n",
      "8/8 [==============================] - 0s 8ms/step - loss: 28548.6484 - root_mean_squared_error: 168.9635 - val_loss: 32268.1270 - val_root_mean_squared_error: 179.6333\n",
      "Epoch 4/20\n",
      "8/8 [==============================] - 0s 10ms/step - loss: 28351.8926 - root_mean_squared_error: 168.3802 - val_loss: 32032.9961 - val_root_mean_squared_error: 178.9776\n",
      "Epoch 5/20\n",
      "8/8 [==============================] - 0s 9ms/step - loss: 28122.9395 - root_mean_squared_error: 167.6990 - val_loss: 31732.9375 - val_root_mean_squared_error: 178.1374\n",
      "Epoch 6/20\n",
      "8/8 [==============================] - 0s 8ms/step - loss: 27822.5605 - root_mean_squared_error: 166.8010 - val_loss: 31355.3262 - val_root_mean_squared_error: 177.0744\n",
      "Epoch 7/20\n",
      "8/8 [==============================] - 0s 11ms/step - loss: 27447.9180 - root_mean_squared_error: 165.6741 - val_loss: 30877.0879 - val_root_mean_squared_error: 175.7188\n",
      "Epoch 8/20\n",
      "8/8 [==============================] - 0s 8ms/step - loss: 26969.6289 - root_mean_squared_error: 164.2243 - val_loss: 30281.3320 - val_root_mean_squared_error: 174.0153\n",
      "Epoch 9/20\n",
      "8/8 [==============================] - 0s 8ms/step - loss: 26389.2246 - root_mean_squared_error: 162.4476 - val_loss: 29540.6094 - val_root_mean_squared_error: 171.8738\n",
      "Epoch 10/20\n",
      "8/8 [==============================] - 0s 10ms/step - loss: 25675.6113 - root_mean_squared_error: 160.2361 - val_loss: 28640.6953 - val_root_mean_squared_error: 169.2356\n",
      "Epoch 11/20\n",
      "8/8 [==============================] - 0s 8ms/step - loss: 24818.9004 - root_mean_squared_error: 157.5401 - val_loss: 27578.5371 - val_root_mean_squared_error: 166.0679\n",
      "Epoch 12/20\n",
      "8/8 [==============================] - 0s 8ms/step - loss: 23773.5469 - root_mean_squared_error: 154.1867 - val_loss: 26359.0625 - val_root_mean_squared_error: 162.3548\n",
      "Epoch 13/20\n",
      "8/8 [==============================] - 0s 8ms/step - loss: 22642.3340 - root_mean_squared_error: 150.4737 - val_loss: 24942.3984 - val_root_mean_squared_error: 157.9316\n",
      "Epoch 14/20\n",
      "8/8 [==============================] - 0s 8ms/step - loss: 21296.3379 - root_mean_squared_error: 145.9326 - val_loss: 23367.2422 - val_root_mean_squared_error: 152.8635\n",
      "Epoch 15/20\n",
      "8/8 [==============================] - 0s 8ms/step - loss: 19873.2988 - root_mean_squared_error: 140.9727 - val_loss: 21623.3984 - val_root_mean_squared_error: 147.0490\n",
      "Epoch 16/20\n",
      "8/8 [==============================] - 0s 8ms/step - loss: 18298.8887 - root_mean_squared_error: 135.2734 - val_loss: 19787.9863 - val_root_mean_squared_error: 140.6698\n",
      "Epoch 17/20\n",
      "8/8 [==============================] - 0s 8ms/step - loss: 16607.4824 - root_mean_squared_error: 128.8700 - val_loss: 17913.7480 - val_root_mean_squared_error: 133.8423\n",
      "Epoch 18/20\n",
      "8/8 [==============================] - 0s 10ms/step - loss: 14989.2559 - root_mean_squared_error: 122.4306 - val_loss: 15983.0908 - val_root_mean_squared_error: 126.4242\n",
      "Epoch 19/20\n",
      "8/8 [==============================] - 0s 10ms/step - loss: 13329.3770 - root_mean_squared_error: 115.4529 - val_loss: 14139.7578 - val_root_mean_squared_error: 118.9107\n",
      "Epoch 20/20\n",
      "8/8 [==============================] - 0s 10ms/step - loss: 11785.0449 - root_mean_squared_error: 108.5589 - val_loss: 12411.4941 - val_root_mean_squared_error: 111.4069\n",
      "4/4 [==============================] - 0s 3ms/step - loss: 10050.2520 - root_mean_squared_error: 100.2509\n"
     ]
    }
   ],
   "source": [
    "optimizer = tf.keras.optimizers.Adam(learning_rate=1e-3)\n",
    "model.compile(loss=\"mse\", optimizer=optimizer, metrics=[\"RootMeanSquaredError\"])\n",
    "\n",
    "X_train_wide, X_train_deep = X_train[:, :5], X_train[:, 2:]\n",
    "X_valid_wide, X_valid_deep = X_valid[:, :5], X_valid[:, 2:]\n",
    "X_test_wide, X_test_deep = X_test[:, :5], X_test[:, 2:]\n",
    "X_new_wide, X_new_deep = X_test_wide[:3], X_test_deep[:3]\n",
    "\n",
    "norm_layer_wide.adapt(X_train_wide)\n",
    "norm_layer_deep.adapt(X_train_deep)\n",
    "history = model.fit((X_train_wide, X_train_deep), y_train, epochs=20,\n",
    "                    validation_data=((X_valid_wide, X_valid_deep), y_valid))\n",
    "mse_test = model.evaluate((X_test_wide, X_test_deep), y_test)"
   ]
  },
  {
   "cell_type": "code",
   "execution_count": 18,
   "id": "6a233873",
   "metadata": {
    "execution": {
     "iopub.execute_input": "2023-10-15T08:10:13.630739Z",
     "iopub.status.busy": "2023-10-15T08:10:13.630448Z",
     "iopub.status.idle": "2023-10-15T08:10:13.644270Z",
     "shell.execute_reply": "2023-10-15T08:10:13.643483Z"
    },
    "papermill": {
     "duration": 0.031684,
     "end_time": "2023-10-15T08:10:13.646334",
     "exception": false,
     "start_time": "2023-10-15T08:10:13.614650",
     "status": "completed"
    },
    "tags": []
   },
   "outputs": [],
   "source": [
    "tf.keras.backend.clear_session()\n",
    "tf.random.set_seed(42)"
   ]
  },
  {
   "cell_type": "code",
   "execution_count": 19,
   "id": "5fda6f32",
   "metadata": {
    "execution": {
     "iopub.execute_input": "2023-10-15T08:10:13.677394Z",
     "iopub.status.busy": "2023-10-15T08:10:13.676884Z",
     "iopub.status.idle": "2023-10-15T08:10:13.767824Z",
     "shell.execute_reply": "2023-10-15T08:10:13.766960Z"
    },
    "papermill": {
     "duration": 0.108487,
     "end_time": "2023-10-15T08:10:13.769652",
     "exception": false,
     "start_time": "2023-10-15T08:10:13.661165",
     "status": "completed"
    },
    "tags": []
   },
   "outputs": [],
   "source": [
    "input_wide = tf.keras.layers.Input(shape=[5])  # features 0 to 4\n",
    "input_deep = tf.keras.layers.Input(shape=[8])  # features 2 to 9\n",
    "norm_layer_wide = tf.keras.layers.Normalization()\n",
    "norm_layer_deep = tf.keras.layers.Normalization()\n",
    "norm_wide = norm_layer_wide(input_wide)\n",
    "norm_deep = norm_layer_deep(input_deep)\n",
    "hidden1 = tf.keras.layers.Dense(50, activation=\"relu\")(norm_deep)\n",
    "hidden2 = tf.keras.layers.Dense(50, activation=\"relu\")(hidden1)\n",
    "concat = tf.keras.layers.concatenate([norm_wide, hidden2])\n",
    "output = tf.keras.layers.Dense(1)(concat)\n",
    "aux_output = tf.keras.layers.Dense(1)(hidden2)\n",
    "model = tf.keras.Model(inputs=[input_wide, input_deep],\n",
    "                       outputs=[output, aux_output])"
   ]
  },
  {
   "cell_type": "code",
   "execution_count": 20,
   "id": "30ba1b9d",
   "metadata": {
    "execution": {
     "iopub.execute_input": "2023-10-15T08:10:13.801342Z",
     "iopub.status.busy": "2023-10-15T08:10:13.800637Z",
     "iopub.status.idle": "2023-10-15T08:10:13.826859Z",
     "shell.execute_reply": "2023-10-15T08:10:13.826134Z"
    },
    "papermill": {
     "duration": 0.057218,
     "end_time": "2023-10-15T08:10:13.841922",
     "exception": false,
     "start_time": "2023-10-15T08:10:13.784704",
     "status": "completed"
    },
    "tags": []
   },
   "outputs": [
    {
     "name": "stdout",
     "output_type": "stream",
     "text": [
      "Model: \"model\"\n",
      "__________________________________________________________________________________________________\n",
      " Layer (type)                   Output Shape         Param #     Connected to                     \n",
      "==================================================================================================\n",
      " input_2 (InputLayer)           [(None, 8)]          0           []                               \n",
      "                                                                                                  \n",
      " normalization_1 (Normalization  (None, 8)           17          ['input_2[0][0]']                \n",
      " )                                                                                                \n",
      "                                                                                                  \n",
      " input_1 (InputLayer)           [(None, 5)]          0           []                               \n",
      "                                                                                                  \n",
      " dense (Dense)                  (None, 50)           450         ['normalization_1[0][0]']        \n",
      "                                                                                                  \n",
      " normalization (Normalization)  (None, 5)            11          ['input_1[0][0]']                \n",
      "                                                                                                  \n",
      " dense_1 (Dense)                (None, 50)           2550        ['dense[0][0]']                  \n",
      "                                                                                                  \n",
      " concatenate (Concatenate)      (None, 55)           0           ['normalization[0][0]',          \n",
      "                                                                  'dense_1[0][0]']                \n",
      "                                                                                                  \n",
      " dense_2 (Dense)                (None, 1)            56          ['concatenate[0][0]']            \n",
      "                                                                                                  \n",
      " dense_3 (Dense)                (None, 1)            51          ['dense_1[0][0]']                \n",
      "                                                                                                  \n",
      "==================================================================================================\n",
      "Total params: 3,135\n",
      "Trainable params: 3,107\n",
      "Non-trainable params: 28\n",
      "__________________________________________________________________________________________________\n"
     ]
    }
   ],
   "source": [
    "model.summary()"
   ]
  },
  {
   "cell_type": "code",
   "execution_count": 21,
   "id": "a8ce6b18",
   "metadata": {
    "execution": {
     "iopub.execute_input": "2023-10-15T08:10:13.876011Z",
     "iopub.status.busy": "2023-10-15T08:10:13.875768Z",
     "iopub.status.idle": "2023-10-15T08:10:13.887386Z",
     "shell.execute_reply": "2023-10-15T08:10:13.886633Z"
    },
    "papermill": {
     "duration": 0.030618,
     "end_time": "2023-10-15T08:10:13.889182",
     "exception": false,
     "start_time": "2023-10-15T08:10:13.858564",
     "status": "completed"
    },
    "tags": []
   },
   "outputs": [],
   "source": [
    "optimizer = tf.keras.optimizers.Adam(learning_rate=1e-3)\n",
    "model.compile(loss=(\"mse\", \"mse\"), loss_weights=(0.9, 0.1), optimizer=optimizer,\n",
    "              metrics=[\"RootMeanSquaredError\"])"
   ]
  },
  {
   "cell_type": "code",
   "execution_count": 22,
   "id": "87fe8282",
   "metadata": {
    "execution": {
     "iopub.execute_input": "2023-10-15T08:10:13.924310Z",
     "iopub.status.busy": "2023-10-15T08:10:13.924050Z",
     "iopub.status.idle": "2023-10-15T08:10:20.157072Z",
     "shell.execute_reply": "2023-10-15T08:10:20.156059Z"
    },
    "papermill": {
     "duration": 6.254223,
     "end_time": "2023-10-15T08:10:20.159367",
     "exception": false,
     "start_time": "2023-10-15T08:10:13.905144",
     "status": "completed"
    },
    "tags": []
   },
   "outputs": [
    {
     "name": "stdout",
     "output_type": "stream",
     "text": [
      "Epoch 1/20\n",
      "8/8 [==============================] - 2s 41ms/step - loss: 28799.0332 - dense_2_loss: 28798.6230 - dense_3_loss: 28802.7031 - dense_2_root_mean_squared_error: 169.7016 - dense_3_root_mean_squared_error: 169.7136 - val_loss: 32554.0547 - val_dense_2_loss: 32544.6777 - val_dense_3_loss: 32638.4180 - val_dense_2_root_mean_squared_error: 180.4014 - val_dense_3_root_mean_squared_error: 180.6611\n",
      "Epoch 2/20\n",
      "8/8 [==============================] - 0s 12ms/step - loss: 28667.1973 - dense_2_loss: 28656.7656 - dense_3_loss: 28761.1230 - dense_2_root_mean_squared_error: 169.2831 - dense_3_root_mean_squared_error: 169.5910 - val_loss: 32397.5234 - val_dense_2_loss: 32376.3184 - val_dense_3_loss: 32588.3770 - val_dense_2_root_mean_squared_error: 179.9342 - val_dense_3_root_mean_squared_error: 180.5225\n",
      "Epoch 3/20\n",
      "8/8 [==============================] - 0s 10ms/step - loss: 28516.8770 - dense_2_loss: 28495.6328 - dense_3_loss: 28708.0957 - dense_2_root_mean_squared_error: 168.8065 - dense_3_root_mean_squared_error: 169.4346 - val_loss: 32215.5059 - val_dense_2_loss: 32181.6211 - val_dense_3_loss: 32520.4824 - val_dense_2_root_mean_squared_error: 179.3924 - val_dense_3_root_mean_squared_error: 180.3344\n",
      "Epoch 4/20\n",
      "8/8 [==============================] - 0s 12ms/step - loss: 28337.8066 - dense_2_loss: 28304.5273 - dense_3_loss: 28637.3027 - dense_2_root_mean_squared_error: 168.2395 - dense_3_root_mean_squared_error: 169.2256 - val_loss: 31988.9219 - val_dense_2_loss: 31940.3105 - val_dense_3_loss: 32426.4336 - val_dense_2_root_mean_squared_error: 178.7185 - val_dense_3_root_mean_squared_error: 180.0734\n",
      "Epoch 5/20\n",
      "8/8 [==============================] - 0s 10ms/step - loss: 28123.2363 - dense_2_loss: 28076.3887 - dense_3_loss: 28544.8730 - dense_2_root_mean_squared_error: 167.5601 - dense_3_root_mean_squared_error: 168.9523 - val_loss: 31699.3223 - val_dense_2_loss: 31632.9570 - val_dense_3_loss: 32296.6113 - val_dense_2_root_mean_squared_error: 177.8566 - val_dense_3_root_mean_squared_error: 179.7126\n",
      "Epoch 6/20\n",
      "8/8 [==============================] - 0s 12ms/step - loss: 27841.6016 - dense_2_loss: 27778.1621 - dense_3_loss: 28412.5586 - dense_2_root_mean_squared_error: 166.6678 - dense_3_root_mean_squared_error: 168.5603 - val_loss: 31331.6328 - val_dense_2_loss: 31244.2949 - val_dense_3_loss: 32117.6719 - val_dense_2_root_mean_squared_error: 176.7606 - val_dense_3_root_mean_squared_error: 179.2140\n",
      "Epoch 7/20\n",
      "8/8 [==============================] - 0s 11ms/step - loss: 27488.1289 - dense_2_loss: 27405.2363 - dense_3_loss: 28234.1934 - dense_2_root_mean_squared_error: 165.5453 - dense_3_root_mean_squared_error: 168.0303 - val_loss: 30864.4043 - val_dense_2_loss: 30752.2988 - val_dense_3_loss: 31873.3281 - val_dense_2_root_mean_squared_error: 175.3633 - val_dense_3_root_mean_squared_error: 178.5310\n",
      "Epoch 8/20\n",
      "8/8 [==============================] - 0s 10ms/step - loss: 27037.2422 - dense_2_loss: 26931.1406 - dense_3_loss: 27992.1641 - dense_2_root_mean_squared_error: 164.1071 - dense_3_root_mean_squared_error: 167.3086 - val_loss: 30285.1016 - val_dense_2_loss: 30144.6328 - val_dense_3_loss: 31549.3262 - val_dense_2_root_mean_squared_error: 173.6221 - val_dense_3_root_mean_squared_error: 177.6213\n",
      "Epoch 9/20\n",
      "8/8 [==============================] - 0s 10ms/step - loss: 26492.8008 - dense_2_loss: 26360.8457 - dense_3_loss: 27680.4316 - dense_2_root_mean_squared_error: 162.3602 - dense_3_root_mean_squared_error: 166.3744 - val_loss: 29576.4570 - val_dense_2_loss: 29404.2891 - val_dense_3_loss: 31125.9707 - val_dense_2_root_mean_squared_error: 171.4768 - val_dense_3_root_mean_squared_error: 176.4255\n",
      "Epoch 10/20\n",
      "8/8 [==============================] - 0s 12ms/step - loss: 25836.6035 - dense_2_loss: 25676.2773 - dense_3_loss: 27279.4902 - dense_2_root_mean_squared_error: 160.2382 - dense_3_root_mean_squared_error: 165.1650 - val_loss: 28725.9766 - val_dense_2_loss: 28519.0684 - val_dense_3_loss: 30588.1230 - val_dense_2_root_mean_squared_error: 168.8759 - val_dense_3_root_mean_squared_error: 174.8946\n",
      "Epoch 11/20\n",
      "8/8 [==============================] - 0s 10ms/step - loss: 25056.7461 - dense_2_loss: 24865.8125 - dense_3_loss: 26775.1680 - dense_2_root_mean_squared_error: 157.6890 - dense_3_root_mean_squared_error: 163.6312 - val_loss: 27735.3125 - val_dense_2_loss: 27491.6406 - val_dense_3_loss: 29928.3711 - val_dense_2_root_mean_squared_error: 165.8060 - val_dense_3_root_mean_squared_error: 172.9982\n",
      "Epoch 12/20\n",
      "8/8 [==============================] - 0s 11ms/step - loss: 24125.8398 - dense_2_loss: 23901.5898 - dense_3_loss: 26144.0801 - dense_2_root_mean_squared_error: 154.6014 - dense_3_root_mean_squared_error: 161.6913 - val_loss: 26605.6152 - val_dense_2_loss: 26323.9375 - val_dense_3_loss: 29140.7285 - val_dense_2_root_mean_squared_error: 162.2465 - val_dense_3_root_mean_squared_error: 170.7066\n",
      "Epoch 13/20\n",
      "8/8 [==============================] - 0s 10ms/step - loss: 23110.8223 - dense_2_loss: 22854.0762 - dense_3_loss: 25421.5605 - dense_2_root_mean_squared_error: 151.1756 - dense_3_root_mean_squared_error: 159.4414 - val_loss: 25311.7734 - val_dense_2_loss: 24990.9004 - val_dense_3_loss: 28199.6406 - val_dense_2_root_mean_squared_error: 158.0851 - val_dense_3_root_mean_squared_error: 167.9275\n",
      "Epoch 14/20\n",
      "8/8 [==============================] - 0s 10ms/step - loss: 21918.2617 - dense_2_loss: 21626.7949 - dense_3_loss: 24541.4570 - dense_2_root_mean_squared_error: 147.0605 - dense_3_root_mean_squared_error: 156.6571 - val_loss: 23874.0293 - val_dense_2_loss: 23514.6055 - val_dense_3_loss: 27108.8516 - val_dense_2_root_mean_squared_error: 153.3447 - val_dense_3_root_mean_squared_error: 164.6477\n",
      "Epoch 15/20\n",
      "8/8 [==============================] - 0s 11ms/step - loss: 20640.4902 - dense_2_loss: 20316.9902 - dense_3_loss: 23551.9922 - dense_2_root_mean_squared_error: 142.5377 - dense_3_root_mean_squared_error: 153.4666 - val_loss: 22287.7520 - val_dense_2_loss: 21891.3984 - val_dense_3_loss: 25854.9316 - val_dense_2_root_mean_squared_error: 147.9574 - val_dense_3_root_mean_squared_error: 160.7947\n",
      "Epoch 16/20\n",
      "8/8 [==============================] - 0s 10ms/step - loss: 19223.2520 - dense_2_loss: 18869.2441 - dense_3_loss: 22409.3340 - dense_2_root_mean_squared_error: 137.3654 - dense_3_root_mean_squared_error: 149.6975 - val_loss: 20604.5488 - val_dense_2_loss: 20175.3965 - val_dense_3_loss: 24466.9141 - val_dense_2_root_mean_squared_error: 142.0401 - val_dense_3_root_mean_squared_error: 156.4190\n",
      "Epoch 17/20\n",
      "8/8 [==============================] - 0s 10ms/step - loss: 17679.4590 - dense_2_loss: 17297.6582 - dense_3_loss: 21115.6816 - dense_2_root_mean_squared_error: 131.5206 - dense_3_root_mean_squared_error: 145.3124 - val_loss: 18865.4141 - val_dense_2_loss: 18409.5273 - val_dense_3_loss: 22968.4023 - val_dense_2_root_mean_squared_error: 135.6817 - val_dense_3_root_mean_squared_error: 151.5533\n",
      "Epoch 18/20\n",
      "8/8 [==============================] - 0s 10ms/step - loss: 16167.3379 - dense_2_loss: 15765.4629 - dense_3_loss: 19784.2090 - dense_2_root_mean_squared_error: 125.5606 - dense_3_root_mean_squared_error: 140.6563 - val_loss: 17043.6484 - val_dense_2_loss: 16567.3906 - val_dense_3_loss: 21329.9375 - val_dense_2_root_mean_squared_error: 128.7144 - val_dense_3_root_mean_squared_error: 146.0477\n",
      "Epoch 19/20\n",
      "8/8 [==============================] - 0s 12ms/step - loss: 14585.4014 - dense_2_loss: 14168.8574 - dense_3_loss: 18334.3125 - dense_2_root_mean_squared_error: 119.0330 - dense_3_root_mean_squared_error: 135.4043 - val_loss: 15249.8164 - val_dense_2_loss: 14762.8252 - val_dense_3_loss: 19632.7461 - val_dense_2_root_mean_squared_error: 121.5024 - val_dense_3_root_mean_squared_error: 140.1169\n",
      "Epoch 20/20\n",
      "8/8 [==============================] - 0s 10ms/step - loss: 13049.0039 - dense_2_loss: 12627.6514 - dense_3_loss: 16841.1816 - dense_2_root_mean_squared_error: 112.3728 - dense_3_root_mean_squared_error: 129.7736 - val_loss: 13516.4863 - val_dense_2_loss: 13029.2441 - val_dense_3_loss: 17901.6602 - val_dense_2_root_mean_squared_error: 114.1457 - val_dense_3_root_mean_squared_error: 133.7971\n"
     ]
    }
   ],
   "source": [
    "norm_layer_wide.adapt(X_train_wide)\n",
    "norm_layer_deep.adapt(X_train_deep)\n",
    "history = model.fit(\n",
    "    (X_train_wide, X_train_deep), (y_train, y_train), epochs=20,\n",
    "    validation_data=((X_valid_wide, X_valid_deep), (y_valid, y_valid))\n",
    ")"
   ]
  },
  {
   "cell_type": "code",
   "execution_count": 23,
   "id": "708a63fc",
   "metadata": {
    "execution": {
     "iopub.execute_input": "2023-10-15T08:10:20.203117Z",
     "iopub.status.busy": "2023-10-15T08:10:20.202293Z",
     "iopub.status.idle": "2023-10-15T08:10:20.291643Z",
     "shell.execute_reply": "2023-10-15T08:10:20.290814Z"
    },
    "papermill": {
     "duration": 0.112375,
     "end_time": "2023-10-15T08:10:20.293924",
     "exception": false,
     "start_time": "2023-10-15T08:10:20.181549",
     "status": "completed"
    },
    "tags": []
   },
   "outputs": [
    {
     "name": "stdout",
     "output_type": "stream",
     "text": [
      "4/4 [==============================] - 0s 5ms/step - loss: 11190.7070 - dense_2_loss: 10799.4258 - dense_3_loss: 14712.2490 - dense_2_root_mean_squared_error: 103.9203 - dense_3_root_mean_squared_error: 121.2941\n"
     ]
    }
   ],
   "source": [
    "eval_results = model.evaluate((X_test_wide, X_test_deep), (y_test, y_test))\n",
    "weighted_sum_of_losses, main_loss, aux_loss, main_rmse, aux_rmse = eval_results"
   ]
  },
  {
   "cell_type": "code",
   "execution_count": 24,
   "id": "a8e1b188",
   "metadata": {
    "execution": {
     "iopub.execute_input": "2023-10-15T08:10:20.334089Z",
     "iopub.status.busy": "2023-10-15T08:10:20.333554Z",
     "iopub.status.idle": "2023-10-15T08:10:20.341025Z",
     "shell.execute_reply": "2023-10-15T08:10:20.340219Z"
    },
    "papermill": {
     "duration": 0.02885,
     "end_time": "2023-10-15T08:10:20.342895",
     "exception": false,
     "start_time": "2023-10-15T08:10:20.314045",
     "status": "completed"
    },
    "tags": []
   },
   "outputs": [],
   "source": [
    "class WideAndDeepModel(tf.keras.Model):\n",
    "    def __init__(self, units=30, activation=\"relu\", **kwargs):\n",
    "        super().__init__(**kwargs)  # needed to support naming the model\n",
    "        self.norm_layer_wide = tf.keras.layers.Normalization()\n",
    "        self.norm_layer_deep = tf.keras.layers.Normalization()\n",
    "        self.hidden1 = tf.keras.layers.Dense(units, activation=activation)\n",
    "        self.hidden2 = tf.keras.layers.Dense(units, activation=activation)\n",
    "        self.main_output = tf.keras.layers.Dense(1)\n",
    "        self.aux_output = tf.keras.layers.Dense(1)\n",
    "        \n",
    "    def call(self, inputs):\n",
    "        input_wide, input_deep = inputs\n",
    "        norm_wide = self.norm_layer_wide(input_wide)\n",
    "        norm_deep = self.norm_layer_deep(input_deep)\n",
    "        hidden1 = self.hidden1(norm_deep)\n",
    "        hidden2 = self.hidden2(hidden1)\n",
    "        concat = tf.keras.layers.concatenate([norm_wide, hidden2])\n",
    "        output = self.main_output(concat)\n",
    "        aux_output = self.aux_output(hidden2)\n",
    "        return output, aux_output\n"
   ]
  },
  {
   "cell_type": "code",
   "execution_count": 25,
   "id": "871bb6d2",
   "metadata": {
    "execution": {
     "iopub.execute_input": "2023-10-15T08:10:20.381960Z",
     "iopub.status.busy": "2023-10-15T08:10:20.381421Z",
     "iopub.status.idle": "2023-10-15T08:10:20.407194Z",
     "shell.execute_reply": "2023-10-15T08:10:20.406389Z"
    },
    "papermill": {
     "duration": 0.047464,
     "end_time": "2023-10-15T08:10:20.408949",
     "exception": false,
     "start_time": "2023-10-15T08:10:20.361485",
     "status": "completed"
    },
    "tags": []
   },
   "outputs": [],
   "source": [
    "tf.random.set_seed(42)\n",
    "model = WideAndDeepModel(50, activation=\"relu\", name=\"model\")"
   ]
  },
  {
   "cell_type": "code",
   "execution_count": 26,
   "id": "70b62f64",
   "metadata": {
    "execution": {
     "iopub.execute_input": "2023-10-15T08:10:20.447891Z",
     "iopub.status.busy": "2023-10-15T08:10:20.447651Z",
     "iopub.status.idle": "2023-10-15T08:10:24.466671Z",
     "shell.execute_reply": "2023-10-15T08:10:24.465551Z"
    },
    "papermill": {
     "duration": 4.040585,
     "end_time": "2023-10-15T08:10:24.468698",
     "exception": false,
     "start_time": "2023-10-15T08:10:20.428113",
     "status": "completed"
    },
    "tags": []
   },
   "outputs": [
    {
     "name": "stdout",
     "output_type": "stream",
     "text": [
      "Epoch 1/20\n",
      "8/8 [==============================] - 2s 42ms/step - loss: 28799.7656 - output_1_loss: 28792.8691 - output_2_loss: 28861.8223 - output_1_root_mean_squared_error: 169.6846 - output_2_root_mean_squared_error: 169.8877 - val_loss: 32570.8711 - val_output_1_loss: 32559.1445 - val_output_2_loss: 32676.4043 - val_output_1_root_mean_squared_error: 180.4415 - val_output_2_root_mean_squared_error: 180.7662\n",
      "Epoch 2/20\n",
      "8/8 [==============================] - 0s 10ms/step - loss: 28662.1699 - output_1_loss: 28647.4980 - output_2_loss: 28794.1816 - output_1_root_mean_squared_error: 169.2557 - output_2_root_mean_squared_error: 169.6885 - val_loss: 32400.6934 - val_output_1_loss: 32379.3906 - val_output_2_loss: 32592.3770 - val_output_1_root_mean_squared_error: 179.9427 - val_output_2_root_mean_squared_error: 180.5336\n",
      "Epoch 3/20\n",
      "8/8 [==============================] - 0s 11ms/step - loss: 28501.1094 - output_1_loss: 28477.5117 - output_2_loss: 28713.5117 - output_1_root_mean_squared_error: 168.7528 - output_2_root_mean_squared_error: 169.4506 - val_loss: 32198.4160 - val_output_1_loss: 32166.2441 - val_output_2_loss: 32487.9551 - val_output_1_root_mean_squared_error: 179.3495 - val_output_2_root_mean_squared_error: 180.2442\n",
      "Epoch 4/20\n",
      "8/8 [==============================] - 0s 10ms/step - loss: 28304.6230 - output_1_loss: 28270.4258 - output_2_loss: 28612.4277 - output_1_root_mean_squared_error: 168.1381 - output_2_root_mean_squared_error: 169.1521 - val_loss: 31938.9180 - val_output_1_loss: 31893.5039 - val_output_2_loss: 32347.6953 - val_output_1_root_mean_squared_error: 178.5875 - val_output_2_root_mean_squared_error: 179.8546\n",
      "Epoch 5/20\n",
      "8/8 [==============================] - 0s 10ms/step - loss: 28060.9219 - output_1_loss: 28014.3652 - output_2_loss: 28479.9395 - output_1_root_mean_squared_error: 167.3749 - output_2_root_mean_squared_error: 168.7600 - val_loss: 31601.1328 - val_output_1_loss: 31539.5547 - val_output_2_loss: 32155.3672 - val_output_1_root_mean_squared_error: 177.5938 - val_output_2_root_mean_squared_error: 179.3192\n",
      "Epoch 6/20\n",
      "8/8 [==============================] - 0s 10ms/step - loss: 27734.9141 - output_1_loss: 27672.7129 - output_2_loss: 28294.7363 - output_1_root_mean_squared_error: 166.3512 - output_2_root_mean_squared_error: 168.2104 - val_loss: 31170.5234 - val_output_1_loss: 31089.6230 - val_output_2_loss: 31898.6660 - val_output_1_root_mean_squared_error: 176.3225 - val_output_2_root_mean_squared_error: 178.6020\n",
      "Epoch 7/20\n",
      "8/8 [==============================] - 0s 10ms/step - loss: 27323.9551 - output_1_loss: 27243.2949 - output_2_loss: 28049.9277 - output_1_root_mean_squared_error: 165.0554 - output_2_root_mean_squared_error: 167.4811 - val_loss: 30623.4160 - val_output_1_loss: 30519.7832 - val_output_2_loss: 31556.0996 - val_output_1_root_mean_squared_error: 174.6991 - val_output_2_root_mean_squared_error: 177.6404\n",
      "Epoch 8/20\n",
      "8/8 [==============================] - 0s 10ms/step - loss: 26796.2051 - output_1_loss: 26693.8457 - output_2_loss: 27717.4531 - output_1_root_mean_squared_error: 163.3825 - output_2_root_mean_squared_error: 166.4856 - val_loss: 29946.7598 - val_output_1_loss: 29817.1934 - val_output_2_loss: 31112.8887 - val_output_1_root_mean_squared_error: 172.6766 - val_output_2_root_mean_squared_error: 176.3885\n",
      "Epoch 9/20\n",
      "8/8 [==============================] - 0s 10ms/step - loss: 26158.3398 - output_1_loss: 26032.1211 - output_2_loss: 27294.3574 - output_1_root_mean_squared_error: 161.3447 - output_2_root_mean_squared_error: 165.2100 - val_loss: 29119.5234 - val_output_1_loss: 28960.8320 - val_output_2_loss: 30547.7344 - val_output_1_root_mean_squared_error: 170.1788 - val_output_2_root_mean_squared_error: 174.7791\n",
      "Epoch 10/20\n",
      "8/8 [==============================] - 0s 11ms/step - loss: 25390.9258 - output_1_loss: 25238.5195 - output_2_loss: 26762.5723 - output_1_root_mean_squared_error: 158.8663 - output_2_root_mean_squared_error: 163.5927 - val_loss: 28125.9336 - val_output_1_loss: 27935.5508 - val_output_2_loss: 29839.3789 - val_output_1_root_mean_squared_error: 167.1393 - val_output_2_root_mean_squared_error: 172.7408\n",
      "Epoch 11/20\n",
      "8/8 [==============================] - 0s 10ms/step - loss: 24475.2871 - output_1_loss: 24294.7051 - output_2_loss: 26100.5234 - output_1_root_mean_squared_error: 155.8676 - output_2_root_mean_squared_error: 161.5566 - val_loss: 26972.4766 - val_output_1_loss: 26749.0039 - val_output_2_loss: 28983.7441 - val_output_1_root_mean_squared_error: 163.5512 - val_output_2_root_mean_squared_error: 170.2461\n",
      "Epoch 12/20\n",
      "8/8 [==============================] - 0s 10ms/step - loss: 23389.9844 - output_1_loss: 23179.3379 - output_2_loss: 25285.8125 - output_1_root_mean_squared_error: 152.2476 - output_2_root_mean_squared_error: 159.0151 - val_loss: 25656.3848 - val_output_1_loss: 25399.3594 - val_output_2_loss: 27969.6348 - val_output_1_root_mean_squared_error: 159.3718 - val_output_2_root_mean_squared_error: 167.2412\n",
      "Epoch 13/20\n",
      "8/8 [==============================] - 0s 10ms/step - loss: 22212.4023 - output_1_loss: 21973.4570 - output_2_loss: 24362.9277 - output_1_root_mean_squared_error: 148.2345 - output_2_root_mean_squared_error: 156.0863 - val_loss: 24159.9082 - val_output_1_loss: 23869.2051 - val_output_2_loss: 26776.2559 - val_output_1_root_mean_squared_error: 154.4966 - val_output_2_root_mean_squared_error: 163.6345\n",
      "Epoch 14/20\n",
      "8/8 [==============================] - 0s 10ms/step - loss: 20834.4609 - output_1_loss: 20565.8633 - output_2_loss: 23251.8555 - output_1_root_mean_squared_error: 143.4080 - output_2_root_mean_squared_error: 152.4856 - val_loss: 22513.6719 - val_output_1_loss: 22191.2773 - val_output_2_loss: 25415.2207 - val_output_1_root_mean_squared_error: 148.9674 - val_output_2_root_mean_squared_error: 159.4215\n",
      "Epoch 15/20\n",
      "8/8 [==============================] - 0s 9ms/step - loss: 19379.3203 - output_1_loss: 19084.7305 - output_2_loss: 22030.6328 - output_1_root_mean_squared_error: 138.1475 - output_2_root_mean_squared_error: 148.4272 - val_loss: 20717.7266 - val_output_1_loss: 20366.2441 - val_output_2_loss: 23881.0879 - val_output_1_root_mean_squared_error: 142.7104 - val_output_2_root_mean_squared_error: 154.5351\n",
      "Epoch 16/20\n",
      "8/8 [==============================] - 0s 10ms/step - loss: 17779.7949 - output_1_loss: 17461.8145 - output_2_loss: 20641.6445 - output_1_root_mean_squared_error: 132.1432 - output_2_root_mean_squared_error: 143.6720 - val_loss: 18846.6621 - val_output_1_loss: 18470.9707 - val_output_2_loss: 22227.8848 - val_output_1_root_mean_squared_error: 135.9079 - val_output_2_root_mean_squared_error: 149.0902\n",
      "Epoch 17/20\n",
      "8/8 [==============================] - 0s 11ms/step - loss: 16064.4268 - output_1_loss: 15726.3789 - output_2_loss: 19106.8613 - output_1_root_mean_squared_error: 125.4049 - output_2_root_mean_squared_error: 138.2276 - val_loss: 16955.4453 - val_output_1_loss: 16562.7344 - val_output_2_loss: 20489.8516 - val_output_1_root_mean_squared_error: 128.6963 - val_output_2_root_mean_squared_error: 143.1428\n",
      "Epoch 18/20\n",
      "8/8 [==============================] - 0s 11ms/step - loss: 14428.8896 - output_1_loss: 14079.9424 - output_2_loss: 17569.4219 - output_1_root_mean_squared_error: 118.6589 - output_2_root_mean_squared_error: 132.5497 - val_loss: 15010.9854 - val_output_1_loss: 14609.5635 - val_output_2_loss: 18623.7656 - val_output_1_root_mean_squared_error: 120.8700 - val_output_2_root_mean_squared_error: 136.4689\n",
      "Epoch 19/20\n",
      "8/8 [==============================] - 0s 10ms/step - loss: 12746.4434 - output_1_loss: 12393.2959 - output_2_loss: 15924.7666 - output_1_root_mean_squared_error: 111.3252 - output_2_root_mean_squared_error: 126.1934 - val_loss: 13151.1201 - val_output_1_loss: 12751.8311 - val_output_2_loss: 16744.7266 - val_output_1_root_mean_squared_error: 112.9240 - val_output_2_root_mean_squared_error: 129.4014\n",
      "Epoch 20/20\n",
      "8/8 [==============================] - 0s 11ms/step - loss: 11172.8516 - output_1_loss: 10826.2422 - output_2_loss: 14292.3516 - output_1_root_mean_squared_error: 104.0492 - output_2_root_mean_squared_error: 119.5506 - val_loss: 11417.6699 - val_output_1_loss: 11030.9219 - val_output_2_loss: 14898.4082 - val_output_1_root_mean_squared_error: 105.0282 - val_output_2_root_mean_squared_error: 122.0590\n",
      "4/4 [==============================] - 0s 5ms/step - loss: 9872.3037 - output_1_loss: 9570.0420 - output_2_loss: 12592.6611 - output_1_root_mean_squared_error: 97.8266 - output_2_root_mean_squared_error: 112.2170\n"
     ]
    }
   ],
   "source": [
    "optimizer = tf.keras.optimizers.Adam(learning_rate=1e-3)\n",
    "model.compile(loss=\"mse\", loss_weights=[0.9, 0.1], optimizer=optimizer,\n",
    "              metrics=[\"RootMeanSquaredError\"])\n",
    "model.norm_layer_wide.adapt(X_train_wide)\n",
    "model.norm_layer_deep.adapt(X_train_deep)\n",
    "history = model.fit(\n",
    "    (X_train_wide, X_train_deep), (y_train, y_train), epochs=20,\n",
    "    validation_data=((X_valid_wide, X_valid_deep), (y_valid, y_valid)))\n",
    "eval_results = model.evaluate((X_test_wide, X_test_deep), (y_test, y_test))\n",
    "weighted_sum_of_losses, main_loss, aux_loss, main_rmse, aux_rmse = eval_results"
   ]
  }
 ],
 "metadata": {
  "kernelspec": {
   "display_name": "Python 3",
   "language": "python",
   "name": "python3"
  },
  "language_info": {
   "codemirror_mode": {
    "name": "ipython",
    "version": 3
   },
   "file_extension": ".py",
   "mimetype": "text/x-python",
   "name": "python",
   "nbconvert_exporter": "python",
   "pygments_lexer": "ipython3",
   "version": "3.10.12"
  },
  "papermill": {
   "default_parameters": {},
   "duration": 49.59415,
   "end_time": "2023-10-15T08:10:27.949001",
   "environment_variables": {},
   "exception": null,
   "input_path": "__notebook__.ipynb",
   "output_path": "__notebook__.ipynb",
   "parameters": {},
   "start_time": "2023-10-15T08:09:38.354851",
   "version": "2.4.0"
  }
 },
 "nbformat": 4,
 "nbformat_minor": 5
}
